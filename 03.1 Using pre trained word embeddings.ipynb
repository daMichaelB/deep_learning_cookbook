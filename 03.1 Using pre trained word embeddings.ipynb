{
 "cells": [
  {
   "cell_type": "markdown",
   "metadata": {},
   "source": [
    "Start Amazon Sagemaker instance and choose **conda_tensorflow_p36** environment"
   ]
  },
  {
   "cell_type": "code",
   "execution_count": null,
   "metadata": {},
   "outputs": [],
   "source": [
    "!python3 -m pip install gensim==3.8.0"
   ]
  },
  {
   "cell_type": "markdown",
   "metadata": {},
   "source": [
    "# GOAL:\n",
    "we want to check the similarity of words on a semantic level. Like Germany and France, both are Countries and they are close together.\n",
    "\n",
    "We will use pre trained word embeddings that are available by Google News for example (it was trained on 100.000.000.000 words)."
   ]
  },
  {
   "cell_type": "markdown",
   "metadata": {},
   "source": [
    "## Text Similarity using Word Embeddings\n",
    "\n",
    "In this notebook we're going to play around with pre build word embeddings and do some fun calculations:"
   ]
  },
  {
   "cell_type": "code",
   "execution_count": 2,
   "metadata": {},
   "outputs": [
    {
     "name": "stderr",
     "output_type": "stream",
     "text": [
      "Using TensorFlow backend.\n"
     ]
    }
   ],
   "source": [
    "%matplotlib inline\n",
    "\n",
    "import os\n",
    "from keras.utils import get_file\n",
    "import gensim\n",
    "import subprocess\n",
    "import numpy as np\n",
    "import matplotlib.pyplot as plt\n",
    "from IPython.core.pylabtools import figsize\n",
    "figsize(10, 10)\n",
    "\n",
    "from sklearn.manifold import TSNE\n",
    "import json\n",
    "from collections import Counter\n",
    "from itertools import chain"
   ]
  },
  {
   "cell_type": "markdown",
   "metadata": {},
   "source": [
    "We'll start by downloading a pretrained model from Google News. We're using `zcat` to unzip the file, so you need to make sure you have that installed or replace it by something else."
   ]
  },
  {
   "cell_type": "code",
   "execution_count": 3,
   "metadata": {},
   "outputs": [
    {
     "name": "stdout",
     "output_type": "stream",
     "text": [
      "Downloading data from https://deeplearning4jblob.blob.core.windows.net/resources/wordvectors/GoogleNews-vectors-negative300.bin.gz\n",
      "1647050752/1647046227 [==============================] - 934s 1us/step\n"
     ]
    }
   ],
   "source": [
    "MODEL = 'GoogleNews-vectors-negative300.bin'\n",
    "path = get_file(MODEL + '.gz', 'https://deeplearning4jblob.blob.core.windows.net/resources/wordvectors/%s.gz' % MODEL)\n",
    "if not os.path.isdir('generated'):\n",
    "    os.mkdir('generated')"
   ]
  },
  {
   "cell_type": "code",
   "execution_count": 5,
   "metadata": {},
   "outputs": [],
   "source": [
    "unzipped = os.path.join('generated', MODEL)\n",
    "if not os.path.isfile(unzipped):\n",
    "    with open(unzipped, 'wb') as fout:\n",
    "        zcat = subprocess.Popen(['zcat'],\n",
    "                          stdin=open(path),\n",
    "                          stdout=fout\n",
    "                         )\n",
    "        zcat.wait()"
   ]
  },
  {
   "cell_type": "markdown",
   "metadata": {},
   "source": [
    "### Now we use gensim ( Python topic modelling package )\n",
    "\n",
    "https://radimrehurek.com/gensim/index.html"
   ]
  },
  {
   "cell_type": "code",
   "execution_count": 6,
   "metadata": {},
   "outputs": [],
   "source": [
    "model = gensim.models.KeyedVectors.load_word2vec_format(unzipped, binary=True)"
   ]
  },
  {
   "cell_type": "markdown",
   "metadata": {},
   "source": [
    "Let's take this model for a spin by looking at what things are most similar to espresso. As expected, coffee like items show up:"
   ]
  },
  {
   "cell_type": "code",
   "execution_count": 10,
   "metadata": {},
   "outputs": [
    {
     "data": {
      "text/plain": [
       "[('cats', 0.8099379539489746),\n",
       " ('dog', 0.7609456777572632),\n",
       " ('kitten', 0.7464985251426697),\n",
       " ('feline', 0.7326233983039856),\n",
       " ('beagle', 0.7150583267211914),\n",
       " ('puppy', 0.7075453996658325),\n",
       " ('pup', 0.6934291124343872),\n",
       " ('pet', 0.6891531348228455),\n",
       " ('felines', 0.6755931377410889),\n",
       " ('chihuahua', 0.6709762215614319)]"
      ]
     },
     "execution_count": 10,
     "metadata": {},
     "output_type": "execute_result"
    }
   ],
   "source": [
    "model.most_similar(positive=['cat'])"
   ]
  },
  {
   "cell_type": "markdown",
   "metadata": {},
   "source": [
    "Now for the famous equation, what is like woman if king is like man? We create a quick method to these calculations here:"
   ]
  },
  {
   "cell_type": "code",
   "execution_count": 11,
   "metadata": {},
   "outputs": [
    {
     "data": {
      "text/plain": [
       "'queen'"
      ]
     },
     "execution_count": 11,
     "metadata": {},
     "output_type": "execute_result"
    }
   ],
   "source": [
    "def A_is_to_B_as_C_is_to(a, b, c, topn=1):\n",
    "    a, b, c = map(lambda x:x if type(x) == list else [x], (a, b, c))\n",
    "    res = model.most_similar(positive=b + c, negative=a, topn=topn)\n",
    "    if len(res):\n",
    "        if topn == 1:\n",
    "            return res[0][0]\n",
    "        return [x[0] for x in res]\n",
    "    return None\n",
    "\n",
    "A_is_to_B_as_C_is_to('man', 'woman', 'king')"
   ]
  },
  {
   "cell_type": "markdown",
   "metadata": {},
   "source": [
    "We can use this equation to acurately predict the capitals of countries by looking at what has the same relationship as Berlin has to Germany for selected countries:"
   ]
  },
  {
   "cell_type": "code",
   "execution_count": 12,
   "metadata": {},
   "outputs": [
    {
     "name": "stdout",
     "output_type": "stream",
     "text": [
      "Rome is the capital of Italy\n",
      "Paris is the capital of France\n",
      "Delhi is the capital of India\n",
      "Beijing is the capital of China\n"
     ]
    }
   ],
   "source": [
    "for country in 'Italy', 'France', 'India', 'China':\n",
    "    print('%s is the capital of %s' % \n",
    "          (A_is_to_B_as_C_is_to('Germany', 'Berlin', country), country))"
   ]
  },
  {
   "cell_type": "markdown",
   "metadata": {},
   "source": [
    "Or we can do the same for important products for given companies. Here we seed the products equation with two products, the iPhone for Apple and Starbucks_coffee for Starbucks. Note that numbers are replaced by # in the embedding model:"
   ]
  },
  {
   "cell_type": "code",
   "execution_count": 16,
   "metadata": {},
   "outputs": [
    {
     "name": "stdout",
     "output_type": "stream",
     "text": [
      "Google -> personalized_homepage, app, Gmail\n",
      "IBM -> DB2, WebSphere_Portal, Tamino_XML_Server\n",
      "Boeing -> Dreamliner, airframe, aircraft\n",
      "Microsoft -> Windows_Mobile, SyncMate, Windows\n",
      "VW -> Dacia_Logan, Volkswagen, roadster\n"
     ]
    }
   ],
   "source": [
    "for company in 'Google', 'IBM', 'Boeing', 'Microsoft', 'VW':\n",
    "    products = A_is_to_B_as_C_is_to(\n",
    "        ['Starbucks', 'Apple'], \n",
    "        ['Starbucks_coffee', 'iPhone'], \n",
    "        company, topn=3)\n",
    "    print('%s -> %s' % \n",
    "          (company, ', '.join(products)))"
   ]
  },
  {
   "cell_type": "markdown",
   "metadata": {},
   "source": [
    "Let's do some clustering by picking three categories of items, drinks, countries and sports:"
   ]
  },
  {
   "cell_type": "code",
   "execution_count": 17,
   "metadata": {},
   "outputs": [
    {
     "data": {
      "text/plain": [
       "18"
      ]
     },
     "execution_count": 17,
     "metadata": {},
     "output_type": "execute_result"
    }
   ],
   "source": [
    "beverages = ['espresso', 'beer', 'vodka', 'wine', 'cola', 'tea']\n",
    "countries = ['Italy', 'Germany', 'Russia', 'France', 'USA', 'India']\n",
    "sports = ['soccer', 'handball', 'hockey', 'cycling', 'basketball', 'cricket']\n",
    "\n",
    "items = beverages + countries + sports\n",
    "len(items)"
   ]
  },
  {
   "cell_type": "markdown",
   "metadata": {},
   "source": [
    "And looking up their vectors:"
   ]
  },
  {
   "cell_type": "code",
   "execution_count": 24,
   "metadata": {},
   "outputs": [
    {
     "data": {
      "text/plain": [
       "(18, 'espresso')"
      ]
     },
     "execution_count": 24,
     "metadata": {},
     "output_type": "execute_result"
    }
   ],
   "source": [
    "item_vectors = [(item, model[item]) \n",
    "                    for item in items\n",
    "                    if item in model]\n",
    "len(item_vectors), item_vectors[0][0]"
   ]
  },
  {
   "cell_type": "markdown",
   "metadata": {},
   "source": [
    "Now use TSNE for clustering:"
   ]
  },
  {
   "cell_type": "code",
   "execution_count": 36,
   "metadata": {},
   "outputs": [],
   "source": [
    "from sklearn.preprocessing import normalize"
   ]
  },
  {
   "cell_type": "code",
   "execution_count": 41,
   "metadata": {},
   "outputs": [
    {
     "name": "stdout",
     "output_type": "stream",
     "text": [
      "[3.586366  3.135164  3.3712635 3.2634988 3.0897832 3.3310723 2.797517\n",
      " 2.658717  2.896993  2.716706  2.4355297 2.6760032 3.0090933 3.7031436\n",
      " 3.3725905 3.1958177 3.077873  3.6725526]\n",
      "[t-SNE] Computing 17 nearest neighbors...\n",
      "[t-SNE] Indexed 18 samples in 0.000s...\n",
      "[t-SNE] Computed neighbors for 18 samples in 0.001s...\n",
      "[t-SNE] Computed conditional probabilities for sample 18 / 18\n",
      "[t-SNE] Mean sigma: 0.581543\n",
      "[t-SNE] Computed conditional probabilities in 0.001s\n",
      "[t-SNE] Iteration 50: error = 53.1430168, gradient norm = 0.1165618 (50 iterations in 0.011s)\n",
      "[t-SNE] Iteration 100: error = 70.9444733, gradient norm = 0.2856881 (50 iterations in 0.009s)\n",
      "[t-SNE] Iteration 150: error = 75.2068253, gradient norm = 0.1622889 (50 iterations in 0.008s)\n",
      "[t-SNE] Iteration 200: error = 59.5631332, gradient norm = 0.0752792 (50 iterations in 0.009s)\n",
      "[t-SNE] Iteration 250: error = 52.6577568, gradient norm = 0.0679168 (50 iterations in 0.010s)\n",
      "[t-SNE] KL divergence after 250 iterations with early exaggeration: 52.657757\n",
      "[t-SNE] Iteration 300: error = 0.7241054, gradient norm = 0.0013544 (50 iterations in 0.010s)\n",
      "[t-SNE] Iteration 350: error = 0.5167847, gradient norm = 0.0003899 (50 iterations in 0.010s)\n",
      "[t-SNE] Iteration 400: error = 0.3625677, gradient norm = 0.0004019 (50 iterations in 0.009s)\n",
      "[t-SNE] Iteration 450: error = 0.2681753, gradient norm = 0.0002445 (50 iterations in 0.009s)\n",
      "[t-SNE] Iteration 500: error = 0.2239965, gradient norm = 0.0002449 (50 iterations in 0.009s)\n",
      "[t-SNE] Iteration 550: error = 0.1753953, gradient norm = 0.0001531 (50 iterations in 0.009s)\n",
      "[t-SNE] Iteration 600: error = 0.1535462, gradient norm = 0.0001155 (50 iterations in 0.009s)\n",
      "[t-SNE] Iteration 650: error = 0.1458079, gradient norm = 0.0000754 (50 iterations in 0.009s)\n",
      "[t-SNE] Iteration 700: error = 0.1402094, gradient norm = 0.0000551 (50 iterations in 0.009s)\n",
      "[t-SNE] Iteration 750: error = 0.1367079, gradient norm = 0.0000382 (50 iterations in 0.010s)\n",
      "[t-SNE] Iteration 800: error = 0.1342258, gradient norm = 0.0000374 (50 iterations in 0.011s)\n",
      "[t-SNE] Iteration 850: error = 0.1308156, gradient norm = 0.0000400 (50 iterations in 0.010s)\n",
      "[t-SNE] Iteration 900: error = 0.1263788, gradient norm = 0.0000430 (50 iterations in 0.008s)\n",
      "[t-SNE] Iteration 950: error = 0.1212092, gradient norm = 0.0000506 (50 iterations in 0.008s)\n",
      "[t-SNE] Iteration 1000: error = 0.1140401, gradient norm = 0.0000447 (50 iterations in 0.008s)\n",
      "[t-SNE] KL divergence after 1000 iterations: 0.114040\n"
     ]
    }
   ],
   "source": [
    "vectors = np.asarray([x[1] for x in item_vectors])\n",
    "lengths = np.linalg.norm(vectors, axis=1) # lengths of each vector\n",
    "print(lengths)\n",
    "norm_vectors = (vectors.T / lengths).T\n",
    "#norm_vectors = normalize(vectors)\n",
    "\n",
    "tsne = TSNE(n_components=2, perplexity=10, verbose=2).fit_transform(norm_vectors)"
   ]
  },
  {
   "cell_type": "markdown",
   "metadata": {},
   "source": [
    "And matplotlib to show the results:"
   ]
  },
  {
   "cell_type": "code",
   "execution_count": 42,
   "metadata": {},
   "outputs": [
    {
     "data": {
      "image/png": "[encoded data removed]",
      "text/plain": [
       "<Figure size 432x288 with 1 Axes>"
      ]
     },
     "metadata": {},
     "output_type": "display_data"
    }
   ],
   "source": [
    "x=tsne[:,0]\n",
    "y=tsne[:,1]\n",
    "\n",
    "fig, ax = plt.subplots()\n",
    "ax.scatter(x, y)\n",
    "\n",
    "for item, x1, y1 in zip(item_vectors, x, y):\n",
    "    ax.annotate(item[0], (x1, y1), size=14)\n",
    "\n",
    "plt.show()"
   ]
  },
  {
   "cell_type": "markdown",
   "metadata": {
    "collapsed": true
   },
   "source": [
    "As you can see, the countries, sports and drinks all form their own little clusters, with arguably cricket and India attracting each other and maybe less clear, wine and France and Italy and espresso."
   ]
  },
  {
   "cell_type": "code",
   "execution_count": null,
   "metadata": {},
   "outputs": [],
   "source": []
  }
 ],
 "metadata": {
  "kernelspec": {
   "display_name": "conda_tensorflow_p36",
   "language": "python",
   "name": "conda_tensorflow_p36"
  },
  "language_info": {
   "codemirror_mode": {
    "name": "ipython",
    "version": 3
   },
   "file_extension": ".py",
   "mimetype": "text/x-python",
   "name": "python",
   "nbconvert_exporter": "python",
   "pygments_lexer": "ipython3",
   "version": "3.6.5"
  }
 },
 "nbformat": 4,
 "nbformat_minor": 1
}
